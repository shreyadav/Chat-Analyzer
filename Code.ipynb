{
 "cells": [
  {
   "cell_type": "code",
   "execution_count": 4,
   "metadata": {},
   "outputs": [],
   "source": [
    "import re #Regular Expression\n",
    "import pandas as pd"
   ]
  },
  {
   "cell_type": "code",
   "execution_count": 5,
   "metadata": {},
   "outputs": [],
   "source": [
    "file = open('Dataset.txt','r',encoding='utf-8')"
   ]
  },
  {
   "cell_type": "code",
   "execution_count": 6,
   "metadata": {},
   "outputs": [],
   "source": [
    "data = file.read()"
   ]
  },
  {
   "cell_type": "code",
   "execution_count": 7,
   "metadata": {},
   "outputs": [
    {
     "name": "stdout",
     "output_type": "stream",
     "text": [
      "10/08/22, 12:21 pm - +91 88590 40810 created group \"Section 4K OFFICIAL\"\n",
      "10/08/22, 12:21 pm - You were added\n",
      "14/11/22, 9:00 am - GLA Praful Jain Sir: I lost my mobile Yesterday eve, So i will be reachable to all of you personally in cabin 229 AB-1 Dr. Praphula Jain\n",
      "14/11/22, 3:16 pm - You turned on disappearing messages. All new messages will disappear from this chat 7 days after they're sent.\n",
      "02/12/22, 10:49 pm - +91 96352 66444: <Media omitted>\n",
      "03/12/22, 12:25 am - +91 82730 16025 joined using this group's invite link\n",
      "04/12/22, 10:45 pm - +91 96352 66444: <Media omitted>\n",
      "06/12/22, 8:03 am - GLA Praful Jain Sir: Only few students remains for soft computing practical exam, they have to come 10to12 in room no 405\n",
      "06/12/22, 12:36 pm - GLA Praful Jain Sir: Anyone left for soft computing practical call me now??\n",
      "\n"
     ]
    }
   ],
   "source": [
    "print(data)"
   ]
  },
  {
   "cell_type": "code",
   "execution_count": 10,
   "metadata": {},
   "outputs": [],
   "source": [
    "pattern = '\\d{1,2}/\\d{1,2}/\\d{2,4},\\s\\d{1,2}:\\d{2}\\s-\\s'"
   ]
  }
 ],
 "metadata": {
  "kernelspec": {
   "display_name": "base",
   "language": "python",
   "name": "python3"
  },
  "language_info": {
   "codemirror_mode": {
    "name": "ipython",
    "version": 3
   },
   "file_extension": ".py",
   "mimetype": "text/x-python",
   "name": "python",
   "nbconvert_exporter": "python",
   "pygments_lexer": "ipython3",
   "version": "3.9.13"
  },
  "orig_nbformat": 4,
  "vscode": {
   "interpreter": {
    "hash": "903236338dd907c19644e1a2b22552246b8549195a1a4156c4f31c2336dfcbd4"
   }
  }
 },
 "nbformat": 4,
 "nbformat_minor": 2
}
